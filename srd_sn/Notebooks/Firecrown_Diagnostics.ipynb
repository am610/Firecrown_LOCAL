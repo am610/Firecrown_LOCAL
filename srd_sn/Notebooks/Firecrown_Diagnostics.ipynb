{
 "cells": [
  {
   "cell_type": "markdown",
   "id": "20b0d885-99bc-484d-abc4-35c398e9e954",
   "metadata": {},
   "source": [
    "#### @Ayan Mitra, 2023\n",
    "#\n",
    "## This Notebook shows how we can \n",
    "### make additional diagonistics on the SN cosmosis analysis by testing the theory vectors individually, checking the chi square values, likelihoods etc.\n",
    "### \n",
    "### "
   ]
  },
  {
   "cell_type": "code",
   "execution_count": 66,
   "id": "d143a658-10cc-46ae-8455-a1650fb50962",
   "metadata": {
    "tags": []
   },
   "outputs": [
    {
     "name": "stdout",
     "output_type": "stream",
     "text": [
      "/pscratch/sd/a/ayanmitr/soft/firecrown/examples/srd_sn\n"
     ]
    }
   ],
   "source": [
    "! pwd"
   ]
  },
  {
   "cell_type": "code",
   "execution_count": 43,
   "id": "5356e5e2-9bfb-45c9-89cf-1f67db4f4da1",
   "metadata": {
    "tags": []
   },
   "outputs": [],
   "source": [
    "import os\n",
    "import sacc\n",
    "import firecrown.likelihood.gauss_family.statistic.supernova as sn\n",
    "from firecrown.likelihood.gauss_family.gaussian import ConstGaussian\n",
    "from firecrown.modeling_tools import ModelingTools\n",
    "import matplotlib.pyplot as plt\n",
    "import pyccl as ccl\n",
    "from sacc import Sacc\n",
    "import numpy as np\n",
    "import pandas as pd\n",
    "import tarfile\n",
    "import urllib.request\n",
    "import datetime\n",
    "import sys\n",
    "import scipy.linalg\n",
    "import seaborn as sns\n",
    "import scipy\n",
    "import warnings\n",
    "warnings.filterwarnings('ignore')\n",
    "import camb\n",
    "from scipy.interpolate import interp1d\n",
    "from statsmodels.nonparametric.smoothers_lowess import lowess"
   ]
  },
  {
   "cell_type": "code",
   "execution_count": 55,
   "id": "17b92796-338c-4080-ac7e-e5a81b5c6e96",
   "metadata": {
    "tags": []
   },
   "outputs": [],
   "source": [
    "def get_smoothed_curve(z_or, prediction, sigma, curve_type='lower', frac=0.05):\n",
    "    \"\"\"\n",
    "    Get the smoothed curve based on the provided data and curve type.\n",
    "\n",
    "    Parameters:\n",
    "    - z_or: Original x-values.\n",
    "    - prediction: Central prediction values.\n",
    "    - sigma: Error values.\n",
    "    - curve_type: String, either 'upper' or 'lower'. Specifies which curve to return.\n",
    "    - frac: Fraction for lowess smoothing.\n",
    "\n",
    "    Returns:\n",
    "    - smoothed_curve: Array with two columns, the first being x-values and the second being y-values of the smoothed curve.\n",
    "    \"\"\"\n",
    "    if curve_type == 'lower':\n",
    "        prediction_curve = prediction - sigma\n",
    "    elif curve_type == 'upper':\n",
    "        prediction_curve = prediction + sigma\n",
    "    else:\n",
    "        raise ValueError(\"curve_type must be either 'upper' or 'lower'\")\n",
    "\n",
    "    f = interp1d(z_or, prediction_curve)\n",
    "\n",
    "    new_z_or = np.linspace(min(z_or), max(z_or), 100)\n",
    "    interpolated_values = f(new_z_or)\n",
    "    smoothed_curve = lowess(interpolated_values, new_z_or.ravel(), frac=frac)\n",
    "\n",
    "    return smoothed_curve\n"
   ]
  },
  {
   "cell_type": "code",
   "execution_count": 56,
   "id": "c816eb03-d793-4dc2-8897-10755cd340cd",
   "metadata": {
    "tags": []
   },
   "outputs": [],
   "source": [
    "# For theory vectors : Path to chain file\n",
    "path = \"/pscratch/sd/a/ayanmitr/Results/SN_PLANCK_BAO/\"\n",
    "filename = path+'PUBLISHED/COSMOSIS-CHAINS/sn_planck_bao.txt'"
   ]
  },
  {
   "cell_type": "code",
   "execution_count": 57,
   "id": "43ec766d-9eca-480a-bfe2-d22deca6ec32",
   "metadata": {},
   "outputs": [],
   "source": [
    "# Data from sacc file\n",
    "# Path to sacc file\n",
    "saccfile = os.path.expanduser(os.path.expandvars(path+\"srd-y1-converted.sacc\"))\n",
    "s = sacc.Sacc.load_fits(saccfile)"
   ]
  },
  {
   "cell_type": "code",
   "execution_count": 58,
   "id": "02c89b8e-0e7b-4105-a4ee-2a1858e4d399",
   "metadata": {
    "tags": []
   },
   "outputs": [
    {
     "data": {
      "text/html": [
       "<div>\n",
       "<style scoped>\n",
       "    .dataframe tbody tr th:only-of-type {\n",
       "        vertical-align: middle;\n",
       "    }\n",
       "\n",
       "    .dataframe tbody tr th {\n",
       "        vertical-align: top;\n",
       "    }\n",
       "\n",
       "    .dataframe thead th {\n",
       "        text-align: right;\n",
       "    }\n",
       "</style>\n",
       "<table border=\"1\" class=\"dataframe\">\n",
       "  <thead>\n",
       "    <tr style=\"text-align: right;\">\n",
       "      <th></th>\n",
       "      <th>cosmological_parameters--omega_m</th>\n",
       "      <th>cosmological_parameters--h0</th>\n",
       "      <th>cosmological_parameters--w</th>\n",
       "      <th>cosmological_parameters--wa</th>\n",
       "      <th>firecrown_supernova_parameters--sn_ddf_sample_m</th>\n",
       "      <th>prior</th>\n",
       "      <th>post</th>\n",
       "    </tr>\n",
       "  </thead>\n",
       "  <tbody>\n",
       "    <tr>\n",
       "      <th>0</th>\n",
       "      <td>0.310501</td>\n",
       "      <td>0.673106</td>\n",
       "      <td>-1.027712</td>\n",
       "      <td>-0.002797</td>\n",
       "      <td>-19.439019</td>\n",
       "      <td>0.579818</td>\n",
       "      <td>-915.117188</td>\n",
       "    </tr>\n",
       "    <tr>\n",
       "      <th>1</th>\n",
       "      <td>0.312009</td>\n",
       "      <td>0.676689</td>\n",
       "      <td>-1.077848</td>\n",
       "      <td>-0.107638</td>\n",
       "      <td>-19.450198</td>\n",
       "      <td>0.579818</td>\n",
       "      <td>-933.860703</td>\n",
       "    </tr>\n",
       "  </tbody>\n",
       "</table>\n",
       "</div>"
      ],
      "text/plain": [
       "   cosmological_parameters--omega_m  cosmological_parameters--h0  \\\n",
       "0                          0.310501                     0.673106   \n",
       "1                          0.312009                     0.676689   \n",
       "\n",
       "   cosmological_parameters--w  cosmological_parameters--wa  \\\n",
       "0                   -1.027712                    -0.002797   \n",
       "1                   -1.077848                    -0.107638   \n",
       "\n",
       "   firecrown_supernova_parameters--sn_ddf_sample_m     prior        post  \n",
       "0                                       -19.439019  0.579818 -915.117188  \n",
       "1                                       -19.450198  0.579818 -933.860703  "
      ]
     },
     "execution_count": 58,
     "metadata": {},
     "output_type": "execute_result"
    }
   ],
   "source": [
    "# Reading the lines\n",
    "with open(filename, 'r') as file:\n",
    "    lines = file.readlines()\n",
    "\n",
    "# Step 2: Ignore lines that start with `#`.\n",
    "cleaned_lines = [line.strip() for line in lines if not line.startswith('#')]\n",
    "\n",
    "# Step 3: Read the remaining lines as a DataFrame.\n",
    "# Get the first line as header and remaining lines as data\n",
    "header = lines[0][1:-1].split('\\t')\n",
    "data = [line.split('\\t') for line in cleaned_lines[1:]]\n",
    "\n",
    "# Create DataFrame\n",
    "df = pd.DataFrame(data, columns=header)\n",
    "\n",
    "# Convert the data columns to the correct datatype (float)\n",
    "for col in header:\n",
    "    df[col] = pd.to_numeric(df[col], errors='coerce')\n",
    "df.head(2)"
   ]
  },
  {
   "cell_type": "markdown",
   "id": "283abae5-ae4b-4f99-9abb-f451b1438bdd",
   "metadata": {},
   "source": [
    "### We choose only ~ 500 lines from the full chain file, to check and save time. "
   ]
  },
  {
   "cell_type": "code",
   "execution_count": 59,
   "id": "d1a7e391-46fc-430a-a3b6-f76d41148b1b",
   "metadata": {
    "tags": []
   },
   "outputs": [
    {
     "name": "stdout",
     "output_type": "stream",
     "text": [
      "(234538, 7)\n",
      "(470, 7)\n"
     ]
    }
   ],
   "source": [
    "print(np.shape(df))\n",
    "# if it is so long for jupyter notebook to execute\n",
    "# we can select every nth row to work with lesser number of \n",
    "# rows\n",
    "df = df.iloc[::500, :]\n",
    "print(np.shape(df))"
   ]
  },
  {
   "cell_type": "code",
   "execution_count": 10,
   "id": "a38b6d75-9b5b-4482-8d62-781b9fdb5256",
   "metadata": {
    "tags": []
   },
   "outputs": [
    {
     "data": {
      "text/plain": [
       "['cosmological_parameters--omega_m',\n",
       " 'cosmological_parameters--h0',\n",
       " 'cosmological_parameters--w',\n",
       " 'cosmological_parameters--wa',\n",
       " 'firecrown_supernova_parameters--sn_ddf_sample_m',\n",
       " 'prior',\n",
       " 'post']"
      ]
     },
     "execution_count": 10,
     "metadata": {},
     "output_type": "execute_result"
    }
   ],
   "source": [
    "header"
   ]
  },
  {
   "cell_type": "code",
   "execution_count": 60,
   "id": "606cdec2-e56c-4c23-97b9-3b2a38534c19",
   "metadata": {
    "tags": []
   },
   "outputs": [],
   "source": [
    "def build_likelihood(_):\n",
    "    \"\"\"Build the Firecrown likelihood object. We have no extra tools for this\n",
    "    example.\"\"\"\n",
    "    # Here we instantiate the necessary statistic object to deal with SNIa data.\n",
    "    snia_stats = sn.Supernova(sacc_tracer=\"sn_ddf_sample\")\n",
    "\n",
    "    # Here we instantiate the actual likelihood. The statistics argument carry\n",
    "    # the order of the data/theory vector.\n",
    "    lk = ConstGaussian(statistics=[snia_stats])\n",
    "\n",
    "    #    We load the correct SACC file.\n",
    "    #    *** Hard code the sacc input path ***\n",
    "    #saccfile = os.path.expanduser(\n",
    "    #    os.path.expandvars(\"/pscratch/sd/a/ayanmitr/soft/firecrown/examples/srd_sn/srd-y1-converted.sacc\")\n",
    "    #)\n",
    "    sacc_data = s #sacc.Sacc.load_fits(saccfile)\n",
    "\n",
    "    # The read likelihood method is called passing the loaded SACC file, the\n",
    "    # statistic functions will receive the appropriated sections of the SACC\n",
    "    # file..\n",
    "    modeling_tools = ModelingTools()\n",
    "    lk.read(sacc_data)\n",
    "    print(\n",
    "        \"Using parameters:\", list(lk.required_parameters().get_params_names())\n",
    "    )\n",
    "\n",
    "    # This script will be loaded by the appropriated connector. The framework\n",
    "    # will call the factory function that should return a Likelihood instance.\n",
    "    return lk, modeling_tools"
   ]
  },
  {
   "cell_type": "code",
   "execution_count": 61,
   "id": "2ed75e81-13e3-4662-8373-11ad0c3eb180",
   "metadata": {
    "tags": []
   },
   "outputs": [
    {
     "name": "stdout",
     "output_type": "stream",
     "text": [
      "Using parameters: ['sn_ddf_sample_M']\n"
     ]
    }
   ],
   "source": [
    "fid_params = {'h': 0.6727,\n",
    "                  'Omega_m': 0.3156,\n",
    "                  'Omega_c': 0.2664315,\n",
    "                  'Omega_b': 0.0491685,\n",
    "                  'Omega_k': 0.0,\n",
    "                  'w0': -1.0,\n",
    "                  'wa': 0.0,\n",
    "                  'sigma8': 0.831,\n",
    "                  'n_s': 0.9645,\n",
    "                  'tau': 0.08}\n",
    "\n",
    "likelihood, tools = build_likelihood(None)\n",
    "\n",
    "# Load the chain data\n",
    "chain_data = df\n",
    "\n",
    "# Initialize lists to store the recomputed theory vectors and log-likelihoods\n",
    "theory_vectors = []\n",
    "log_likes = []\n",
    "chisq = []\n",
    "\n",
    "# Iterate over the rows in the chain data\n",
    "for index, row in chain_data.iterrows():\n",
    "    #print(row)\n",
    "    # Extract the parameter values from the row\n",
    "    omega_m = row[header[0]]\n",
    "    H0 = row[header[1]]\n",
    "    w0 = row[header[2]]\n",
    "    wa = row[header[3]]\n",
    "    M = row[header[4]]\n",
    "    \n",
    "    # *** Set up your model with the extracted parameter values\n",
    "    # replace with actual parameters that is availble in chain file ***\n",
    "    cosmo = ccl.Cosmology(w0 = w0,\n",
    "                             wa = wa,\n",
    "                             Omega_c = fid_params['Omega_c'],\n",
    "                             Omega_b = fid_params['Omega_b'],\n",
    "                             Omega_k = fid_params['Omega_k'],\n",
    "                             sigma8 = fid_params['sigma8'],\n",
    "                             n_s = fid_params['n_s'],\n",
    "                             h = H0,\n",
    "                             extra_parameters={\"camb\": {\"dark_energy_model\": \"ppf\"}}\n",
    "                            )\n",
    "\n",
    "    cosmo.compute_nonlin_power()\n",
    "    tools.reset()\n",
    "    tools.prepare(cosmo)\n",
    "\n",
    "    # Set the M attribute to the extracted value\n",
    "    for stat in likelihood.statistics:\n",
    "        if isinstance(stat, sn.Supernova):\n",
    "            stat.M = M\n",
    "\n",
    "    # Recompute the theory vector and log-likelihood\n",
    "    theory_vector = likelihood.compute_theory_vector(tools)\n",
    "    log_like = likelihood.compute_loglike(tools)\n",
    "    chisqu = likelihood.compute_chisq(tools)\n",
    "    \n",
    "    # Store the recomputed theory vector and log-likelihood\n",
    "    theory_vectors.append(theory_vector)\n",
    "    log_likes.append(log_like)\n",
    "    chisq.append(chisqu)   "
   ]
  },
  {
   "cell_type": "code",
   "execution_count": 62,
   "id": "89ba21b1-756b-4725-82a6-55ecd74c958f",
   "metadata": {
    "tags": []
   },
   "outputs": [
    {
     "name": "stdout",
     "output_type": "stream",
     "text": [
      "-8.869836371662233\n",
      "17.739672743324466\n"
     ]
    }
   ],
   "source": [
    "print(np.max(log_likes))\n",
    "print(np.min(chisq))"
   ]
  },
  {
   "cell_type": "code",
   "execution_count": 63,
   "id": "acfc5d77-1ed8-4b13-98b8-b1ebeecf4b4f",
   "metadata": {
    "tags": []
   },
   "outputs": [
    {
     "data": {
      "image/png": "[encoded data removed]",
      "text/plain": [
       "<Figure size 500x400 with 1 Axes>"
      ]
     },
     "metadata": {},
     "output_type": "display_data"
    }
   ],
   "source": [
    "# Set up the matplotlib figure\n",
    "plt.figure(figsize=(5, 4))\n",
    "\n",
    "# Draw the density plot\n",
    "sns.kdeplot(log_likes, fill=True)\n",
    "#plt.title('Density Plot of Likelihood Values')\n",
    "\n",
    "kde_line = sns.kdeplot(log_likes).get_lines()[0]\n",
    "x, y = kde_line.get_data()\n",
    "\n",
    "# Define the region to fill (from 0 to the max x value)\n",
    "x_fill = np.linspace(np.max(log_likes), x.max(), 1000)  # 1000 points from 0 to max(x)\n",
    "y_fill = np.interp(x_fill, x, y)  # Interpolate to find the corresponding y values\n",
    "\n",
    "# Fill the region under the curve beyond zero with a very faded color\n",
    "plt.fill_between(x_fill, y_fill, color='black', alpha=0.1)  # You can change 'red' to any color you prefer\n",
    "\n",
    "\n",
    "\n",
    "plt.xlabel('Likelihood Value')\n",
    "plt.ylabel('Density')\n",
    "\n",
    "# Show the plot\n",
    "plt.show();\n",
    "\n",
    "## Part of the plot shaded darker, mark the values\n",
    "## which are not physically present but KDE plot\n",
    "## made them, so we dont need to worry abut these values"
   ]
  },
  {
   "cell_type": "code",
   "execution_count": 64,
   "id": "636b8182-af19-4d4d-be42-9f7148fb1f65",
   "metadata": {
    "tags": []
   },
   "outputs": [
    {
     "data": {
      "image/png": "[encoded data removed]",
      "text/plain": [
       "<Figure size 500x400 with 1 Axes>"
      ]
     },
     "metadata": {},
     "output_type": "display_data"
    }
   ],
   "source": [
    "# Set up the matplotlib figure\n",
    "plt.figure(figsize=(5, 4))\n",
    "\n",
    "# Draw the density plot\n",
    "sns.kdeplot(chisq, fill=True)\n",
    "#plt.title('Density Plot of Likelihood Values')\n",
    "\n",
    "kde_line = sns.kdeplot(chisq).get_lines()[0]\n",
    "x, y = kde_line.get_data()\n",
    "\n",
    "\n",
    "# Define the region to fill (from 0 to the max x value)\n",
    "x_fill = np.linspace(x.min(), np.min(chisq), 1000)  # 1000 points from 0 to max(x)\n",
    "y_fill = np.interp(x_fill, x, y)  # Interpolate to find the corresponding y values\n",
    "\n",
    "# Fill the region under the curve beyond zero with a very faded color\n",
    "plt.fill_between(x_fill, y_fill, color='black', alpha=0.1)  # You can change 'red' to any color you prefer\n",
    "\n",
    "\n",
    "\n",
    "plt.xlabel(r'${\\chi}^2$ Value')\n",
    "plt.ylabel('Density')\n",
    "\n",
    "# Show the plot\n",
    "plt.show();"
   ]
  },
  {
   "cell_type": "markdown",
   "id": "0fa36b5c-a939-4e02-aba5-9512bfd32c16",
   "metadata": {},
   "source": [
    "# Observations"
   ]
  },
  {
   "cell_type": "code",
   "execution_count": 65,
   "id": "0eac00aa-fb00-4c3e-8fe8-2d386bc4eac1",
   "metadata": {
    "tags": []
   },
   "outputs": [],
   "source": [
    "zdata = []\n",
    "i = 0\n",
    "for d in s.data[:]:\n",
    "    #print(d)\n",
    "    zdata.append(s.data[i]['z'])\n",
    "    i+=1"
   ]
  },
  {
   "cell_type": "code",
   "execution_count": 66,
   "id": "30cfc408-1722-4552-9e02-1b529a8707a2",
   "metadata": {
    "tags": []
   },
   "outputs": [
    {
     "data": {
      "image/png": "[encoded data removed]",
      "text/plain": [
       "<Figure size 640x480 with 1 Axes>"
      ]
     },
     "metadata": {},
     "output_type": "display_data"
    }
   ],
   "source": [
    "#mu = theory_vectors[1]\n",
    "# Convert the list of arrays to a 2D array\n",
    "array_2d = np.vstack(theory_vectors)\n",
    "#print(array_2d)\n",
    "# Compute the mean and standard deviation along the columns\n",
    "means = np.mean(array_2d, axis=0)\n",
    "stds = np.std(array_2d, axis=0)\n",
    "\n",
    "\n",
    "\n",
    "f,a2 = plt.subplots()\n",
    "# Plotting the mean values\n",
    "plt.plot(zdata, means, label='Theory')\n",
    "plt.plot(zdata,s.mean,'*',label='Data')\n",
    "smoothed_lower = get_smoothed_curve(zdata, means, stds, curve_type='lower');\n",
    "smoothed_upper = get_smoothed_curve(zdata, means, stds, curve_type='upper');\n",
    "a2.fill_between(smoothed_lower[:, 0], smoothed_lower[:, 1], smoothed_upper[:, 1], color='red', alpha=0.1);\n",
    "plt.legend()\n",
    "plt.xlabel('z')\n",
    "plt.ylabel(r'$\\mu$')\n",
    "plt.legend()\n",
    "plt.show()\n",
    "\n",
    "# the theory data plotted is the mean row and their is an \n",
    "# error band based on the std."
   ]
  },
  {
   "cell_type": "code",
   "execution_count": 69,
   "id": "8edb1d6e-6ea2-409d-93fc-50acbeed42ff",
   "metadata": {
    "tags": []
   },
   "outputs": [
    {
     "name": "stdout",
     "output_type": "stream",
     "text": [
      "19.303698318286266\n"
     ]
    },
    {
     "data": {
      "image/png": "[encoded data removed]",
      "text/plain": [
       "<Figure size 640x480 with 1 Axes>"
      ]
     },
     "metadata": {},
     "output_type": "display_data"
    }
   ],
   "source": [
    "residuals = s.mean - mu\n",
    "plt.plot(zdata, mu - s.mean,label='Residual')\n",
    "plt.plot(zdata, mu - s.mean,'o')\n",
    "plt.legend()\n",
    "plt.xlabel('z')\n",
    "plt.ylabel(r'$\\Delta \\mu$')\n",
    "\n",
    "# Computing by hand\n",
    "cov = s.covariance.dense\n",
    "cholesky = scipy.linalg.cholesky(cov, lower=True)\n",
    "inv_cov = np.linalg.inv(cov)\n",
    "x = scipy.linalg.solve_triangular(cholesky, residuals, lower=True)\n",
    "chisqr = np.dot(x, x)\n",
    "print(chisqr)"
   ]
  }
 ],
 "metadata": {
  "kernelspec": {
   "display_name": "desc-python-bleed",
   "language": "python",
   "name": "desc-python-bleed"
  },
  "language_info": {
   "codemirror_mode": {
    "name": "ipython",
    "version": 3
   },
   "file_extension": ".py",
   "mimetype": "text/x-python",
   "name": "python",
   "nbconvert_exporter": "python",
   "pygments_lexer": "ipython3",
   "version": "3.10.12"
  }
 },
 "nbformat": 4,
 "nbformat_minor": 5
}
